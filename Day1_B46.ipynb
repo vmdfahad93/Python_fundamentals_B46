{
 "cells": [
  {
   "cell_type": "code",
   "execution_count": 1,
   "id": "7c38fe31",
   "metadata": {},
   "outputs": [
    {
     "name": "stdout",
     "output_type": "stream",
     "text": [
      "hello all welcome to the python programming world\n"
     ]
    }
   ],
   "source": [
    "print(\"hello all welcome to the python programming world\")"
   ]
  },
  {
   "cell_type": "code",
   "execution_count": null,
   "id": "a5111d00",
   "metadata": {},
   "outputs": [],
   "source": []
  }
 ],
 "metadata": {
  "kernelspec": {
   "display_name": "Python 3",
   "language": "python",
   "name": "python3"
  },
  "language_info": {
   "codemirror_mode": {
    "name": "ipython",
    "version": 3
   },
   "file_extension": ".py",
   "mimetype": "text/x-python",
   "name": "python",
   "nbconvert_exporter": "python",
   "pygments_lexer": "ipython3",
   "version": "3.8.8"
  }
 },
 "nbformat": 4,
 "nbformat_minor": 5
}
